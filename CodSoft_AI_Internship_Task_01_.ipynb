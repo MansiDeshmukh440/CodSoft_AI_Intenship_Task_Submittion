{
  "cells": [
    {
      "cell_type": "code",
      "execution_count": null,
      "metadata": {
        "id": "DoKzh79jgRvn"
      },
      "outputs": [],
      "source": [
        "import re\n",
        "\n",
        "def chatbot_response(user_input):\n",
        "    user_input = user_input.lower()\n",
        "\n",
        "    # Define patterns and responses for a coffee shop\n",
        "    patterns_responses = [\n",
        "        (r'hello|hi|hey', \"Hello! Welcome to our coffee shop. How can I assist you today?\"),\n",
        "        (r'how are you', \"I'm just a chatbot, but I'm here to make your coffee experience great!\"),\n",
        "        (r'what is your name', \"I am a coffee shop chatbot here to assist you.\"),\n",
        "        (r'what is name of coffee shop', \"The name coffee shop is Pbuks\"),\n",
        "        (r'bye|goodbye', \"Goodbye! Have a wonderful day!\"),\n",
        "        (r'help', \"Sure, I'm here to help. Do you need assistance with our menu, opening hours, or something else?\"),\n",
        "        (r'thank you|thanks', \"You're welcome! Enjoy your coffee! If you have any other questions, feel free to ask.\"),\n",
        "        (r'exit|axit|exiy', \"Goodbye! Have a great day!\"),  # Added exit pattern with common typos\n",
        "        (r'menu', \"Our menu includes a variety of coffees, teas, and pastries. Would you like to hear about our specials?\"),\n",
        "        (r'open(ing)? hours', \"We are open from 7 AM to 7 PM every day.\"),\n",
        "        (r'location', \"We are located at 123 Coffee Street, Bean Town.\"),\n",
        "        (r'order coffee|buy coffee', \"Sure! What kind of coffee would you like to order? We have espresso, latte, cappuccino, and more.\"),\n",
        "        (r'specials', \"Today's specials include a Pumpkin Spice Latte and a Mocha Frappuccino.\"),\n",
        "        (r'decaf', \"Yes, we offer decaf options for most of our coffee drinks.\"),\n",
        "        (r'sugar-free|sugar free', \"We have sugar-free syrups available for our drinks.\"),\n",
        "        (r'payment|pay', \"We accept cash, credit cards, and mobile payments. How would you like to pay?\")\n",
        "    ]\n",
        "\n",
        "     # Match user input with patterns and return the corresponding response\n",
        "    for pattern, response in patterns_responses:\n",
        "        if re.search(pattern, user_input):\n",
        "            return response\n",
        "\n",
        "    # Default response if no pattern matches\n",
        "    return \"I'm sorry, I don't understand that. Can you please rephrase?\"\n"
      ]
    },
    {
      "cell_type": "code",
      "execution_count": null,
      "metadata": {
        "id": "6DEcYLD4gS8I",
        "colab": {
          "base_uri": "https://localhost:8080/"
        },
        "outputId": "5224fd37-b741-4eb5-eb54-47b882080b00"
      },
      "outputs": [
        {
          "output_type": "stream",
          "name": "stdout",
          "text": [
            "You: hey\n",
            "Chatbot: Hello! Welcome to our coffee shop. How can I assist you today?\n",
            "You: what is menu  of coffee shop\n",
            "Chatbot: Our menu includes a variety of coffees, teas, and pastries. Would you like to hear about our specials?\n",
            "You: exit\n",
            "Chatbot: Goodbye! Have a great day!\n"
          ]
        }
      ],
      "source": [
        "# Example interaction\n",
        "while True:\n",
        "    user_input = input(\"You: \")\n",
        "    if re.search(r'exit|axit|exiy', user_input.lower()): # Check for exit patterns\n",
        "        print(\"Chatbot: Goodbye! Have a great day!\")\n",
        "        break\n",
        "    response = chatbot_response(user_input)\n",
        "    print(f\"Chatbot: {response}\")\n"
      ]
    },
    {
      "cell_type": "code",
      "source": [],
      "metadata": {
        "id": "xxhHVVPIiWUr"
      },
      "execution_count": null,
      "outputs": []
    },
    {
      "cell_type": "code",
      "source": [],
      "metadata": {
        "id": "iRkaVwBTjxEb"
      },
      "execution_count": null,
      "outputs": []
    }
  ],
  "metadata": {
    "colab": {
      "provenance": []
    },
    "kernelspec": {
      "display_name": "Python 3",
      "name": "python3"
    },
    "language_info": {
      "name": "python"
    }
  },
  "nbformat": 4,
  "nbformat_minor": 0
}