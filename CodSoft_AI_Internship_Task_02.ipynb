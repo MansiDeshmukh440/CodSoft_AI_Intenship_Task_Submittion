{
  "nbformat": 4,
  "nbformat_minor": 0,
  "metadata": {
    "colab": {
      "provenance": []
    },
    "kernelspec": {
      "name": "python3",
      "display_name": "Python 3"
    },
    "language_info": {
      "name": "python"
    }
  },
  "cells": [
    {
      "cell_type": "code",
      "execution_count": null,
      "metadata": {
        "id": "DRAToci5nmva"
      },
      "outputs": [],
      "source": [
        "import math\n",
        "\n",
        "# Initialize the board\n",
        "def create_board():\n",
        "    return [' ' for _ in range(9)]\n",
        "\n",
        "# Print the board\n",
        "def print_board(board):\n",
        "    for row in [board[i*3:(i+1)*3] for i in range(3)]:\n",
        "        print('| ' + ' | '.join(row) + ' |')\n",
        "\n",
        "# Check for a winner\n",
        "def check_winner(board, player):\n",
        "    win_conditions = [\n",
        "        [board[0], board[1], board[2]],  # Top row\n",
        "        [board[3], board[4], board[5]],  # Middle row\n",
        "        [board[6], board[7], board[8]],  # Bottom row\n",
        "        [board[0], board[3], board[6]],  # Left column\n",
        "        [board[1], board[4], board[7]],  # Middle column\n",
        "        [board[2], board[5], board[8]],  # Right column\n",
        "        [board[0], board[4], board[8]],  # Diagonal\n",
        "        [board[2], board[4], board[6]]   # Diagonal\n",
        "    ]\n",
        "    return [player, player, player] in win_conditions\n",
        "\n",
        "# Check for a draw\n",
        "def check_draw(board):\n",
        "    return ' ' not in board\n",
        "\n",
        "# Get the available moves\n",
        "def available_moves(board):\n",
        "    return [i for i, spot in enumerate(board) if spot == ' ']\n"
      ]
    },
    {
      "cell_type": "code",
      "source": [
        "# Minimax algorithm with Alpha-Beta Pruning\n",
        "def minimax(board, depth, alpha, beta, is_maximizing):\n",
        "    if check_winner(board, 'O'):\n",
        "        return 1\n",
        "    elif check_winner(board, 'X'):\n",
        "        return -1\n",
        "    elif check_draw(board):\n",
        "        return 0\n",
        "\n",
        "    if is_maximizing:\n",
        "        max_eval = -math.inf\n",
        "        for move in available_moves(board):\n",
        "            board[move] = 'O'\n",
        "            eval = minimax(board, depth + 1, alpha, beta, False)\n",
        "            board[move] = ' '\n",
        "            max_eval = max(max_eval, eval)\n",
        "            alpha = max(alpha, eval)\n",
        "            if beta <= alpha:\n",
        "                break\n",
        "        return max_eval\n",
        "    else:\n",
        "        min_eval = math.inf\n",
        "        for move in available_moves(board):\n",
        "            board[move] = 'X'\n",
        "            eval = minimax(board, depth + 1, alpha, beta, True)\n",
        "            board[move] = ' '\n",
        "            min_eval = min(min_eval, eval)\n",
        "            beta = min(beta, eval)\n",
        "            if beta <= alpha:\n",
        "                break\n",
        "        return min_eval\n"
      ],
      "metadata": {
        "id": "NnETA4IWoKYF"
      },
      "execution_count": null,
      "outputs": []
    },
    {
      "cell_type": "code",
      "source": [
        "# AI move\n",
        "def ai_move(board):\n",
        "    best_score = -math.inf\n",
        "    best_move = None\n",
        "    for move in available_moves(board):\n",
        "        board[move] = 'O'\n",
        "        score = minimax(board, 0, -math.inf, math.inf, False)\n",
        "        board[move] = ' '\n",
        "        if score > best_score:\n",
        "            best_score = score\n",
        "            best_move = move\n",
        "    board[best_move] = 'O'\n"
      ],
      "metadata": {
        "id": "kgx7-x-coSB_"
      },
      "execution_count": null,
      "outputs": []
    },
    {
      "cell_type": "code",
      "source": [
        "# Human move\n",
        "def human_move(board):\n",
        "    move = int(input(\"Enter your move (1-9): \")) - 1\n",
        "    if board[move] == ' ':\n",
        "        board[move] = 'X'\n",
        "    else:\n",
        "        print(\"Invalid move! Try again.\")\n",
        "        human_move(board)\n",
        "\n",
        "# Game loop\n",
        "def play_game():\n",
        "    board = create_board()\n",
        "    print_board(board)\n",
        "\n",
        "    while True:\n",
        "        human_move(board)\n",
        "        if check_winner(board, 'X'):\n",
        "            print_board(board)\n",
        "            print(\"You win!\")\n",
        "            break\n",
        "        elif check_draw(board):\n",
        "            print_board(board)\n",
        "            print(\"It's a draw!\")\n",
        "            break\n",
        "\n",
        "        ai_move(board)\n",
        "        print_board(board)\n",
        "        if check_winner(board, 'O'):\n",
        "            print(\"AI wins!\")\n",
        "            break\n",
        "        elif check_draw(board):\n",
        "            print(\"It's a draw!\")\n",
        "            break\n",
        "\n",
        "\n"
      ],
      "metadata": {
        "id": "nwfixWEPoZIe"
      },
      "execution_count": null,
      "outputs": []
    },
    {
      "cell_type": "code",
      "source": [
        "# Start the game\n",
        "play_game()"
      ],
      "metadata": {
        "colab": {
          "base_uri": "https://localhost:8080/"
        },
        "id": "H6QfeHFQocW9",
        "outputId": "cfbc24a9-9bd9-4532-e28b-09a3269e248e"
      },
      "execution_count": null,
      "outputs": [
        {
          "output_type": "stream",
          "name": "stdout",
          "text": [
            "|   |   |   |\n",
            "|   |   |   |\n",
            "|   |   |   |\n",
            "Enter your move (1-9): 5\n",
            "| O |   |   |\n",
            "|   | X |   |\n",
            "|   |   |   |\n",
            "Enter your move (1-9): 4\n",
            "| O |   |   |\n",
            "| X | X | O |\n",
            "|   |   |   |\n",
            "Enter your move (1-9): 2\n",
            "| O | X |   |\n",
            "| X | X | O |\n",
            "|   | O |   |\n",
            "Enter your move (1-9): 7\n",
            "| O | X | O |\n",
            "| X | X | O |\n",
            "| X | O |   |\n",
            "Enter your move (1-9): 8\n",
            "Invalid move! Try again.\n",
            "Enter your move (1-9): 9\n",
            "| O | X | O |\n",
            "| X | X | O |\n",
            "| X | O | X |\n",
            "It's a draw!\n"
          ]
        }
      ]
    },
    {
      "cell_type": "code",
      "source": [],
      "metadata": {
        "id": "kUn5kWid04oA"
      },
      "execution_count": null,
      "outputs": []
    }
  ]
}